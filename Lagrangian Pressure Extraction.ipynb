{
 "cells": [
  {
   "cell_type": "markdown",
   "metadata": {},
   "source": [
    "## Table of Contents\n",
    "\n",
    "1. [Module Import](#module-import)\n",
    "2. [Synthetic Data](#synthetic-data)\n",
    "\n",
    "***"
   ]
  },
  {
   "cell_type": "markdown",
   "metadata": {},
   "source": [
    "## Module Import <a class=\"anchor\" id=\"module-import\"></a>"
   ]
  },
  {
   "cell_type": "code",
   "execution_count": 1,
   "metadata": {},
   "outputs": [],
   "source": [
    "%matplotlib widget\n",
    "\n",
    "#import libraries we're going to need\n",
    "import math\n",
    "import numpy as np\n",
    "import lagrangiandataprocessing as ldp\n",
    "import taylorgreenvortex as tgv\n",
    "import matplotlib as mpl\n",
    "import matplotlib.pyplot as plt\n",
    "import matplotlib.cm as cm\n",
    "from mpl_toolkits.mplot3d import Axes3D"
   ]
  },
  {
   "cell_type": "markdown",
   "metadata": {},
   "source": [
    "***"
   ]
  },
  {
   "cell_type": "markdown",
   "metadata": {},
   "source": [
    "## Synthetic Data <a class=\"anchor\" id=\"synthetic-data\"></a>"
   ]
  },
  {
   "cell_type": "markdown",
   "metadata": {},
   "source": [
    "### Parameter definition"
   ]
  },
  {
   "cell_type": "markdown",
   "metadata": {},
   "source": [
    "Here we define some parameters that will be used in the synthetic data generation."
   ]
  },
  {
   "cell_type": "code",
   "execution_count": 2,
   "metadata": {},
   "outputs": [],
   "source": [
    "L = 1 # characteristic length scale, m\n",
    "rho = 1000 # density, kg/m3\n",
    "mu = 0.001 # viscosity, Pa*s\n",
    "V0 = 1 # characteristic velocity, m/s\n",
    "\n",
    "N = 20000 # number of data points\n",
    "\n",
    "domain_size = 6 # size of domain in multiples of the charactreristic length"
   ]
  },
  {
   "cell_type": "markdown",
   "metadata": {},
   "source": [
    "Next, we use the numpy random function and taylor green vortex module to create the synthetic data.\n",
    "With a lagrangian velocimetry method, we would be able to measure the velocity and acceleration of the particles."
   ]
  },
  {
   "cell_type": "code",
   "execution_count": 3,
   "metadata": {},
   "outputs": [],
   "source": [
    "X = L*(domain_size*np.random.rand(N,3)-domain_size/2)\n",
    "\n",
    "U = tgv.velocity(X,L,V0)\n",
    "DUDt = tgv.acceleration(X,L,V0,rho,mu)\n",
    "\n",
    "pTrue = tgv.pressure(X,L,V0,rho)\n"
   ]
  },
  {
   "cell_type": "code",
   "execution_count": 4,
   "metadata": {},
   "outputs": [
    {
     "data": {
      "application/vnd.jupyter.widget-view+json": {
       "model_id": "0c19edc8ba57446383fee649b8b9d184",
       "version_major": 2,
       "version_minor": 0
      },
      "text/plain": [
       "Canvas(toolbar=Toolbar(toolitems=[('Home', 'Reset original view', 'home', 'home'), ('Back', 'Back to previous …"
      ]
     },
     "metadata": {},
     "output_type": "display_data"
    }
   ],
   "source": [
    "# let's visualize the data first in 3D and on a 2D slice on the z=0 plane\n",
    "\n",
    "pMaxAbs = max(np.abs(np.max(pTrue)),np.abs(np.min(pTrue)))\n",
    "\n",
    "pMax = pMaxAbs\n",
    "pMin = -pMaxAbs\n",
    "\n",
    "zThresh = 0.1\n",
    "\n",
    "norm = mpl.colors.Normalize(vmin=pMin,vmax=pMax)\n",
    "cmap=plt.cm.get_cmap('bwr', 20)\n",
    "\n",
    "fig = plt.figure(figsize=(9,4))\n",
    "\n",
    "fig.canvas.toolbar_visible = True\n",
    "fig.canvas.header_visible = True\n",
    "\n",
    "ax = fig.add_subplot(121, projection='3d')\n",
    "\n",
    "ax.scatter(X[:,0],X[:,1],X[:,2],s=10,c=pTrue,cmap=cmap,vmin=pMin, vmax=pMax);\n",
    "\n",
    "ax.set_xlabel('x [m]')\n",
    "ax.set_ylabel('y [m]')\n",
    "ax.set_zlabel('z [m]')\n",
    "\n",
    "\n",
    "ax2 = fig.add_subplot(122)\n",
    "\n",
    "X_zPlane = X[np.abs(X[:,2])<zThresh,:]\n",
    "pTrue_zPlane = pTrue[np.abs(X[:,2])<zThresh]\n",
    "\n",
    "ax2.scatter(X_zPlane[:,0],X_zPlane[:,1],s=10,c=pTrue_zPlane,cmap=cmap,vmin=pMin,vmax=pMax)\n",
    "\n",
    "\n",
    "ax2.set_xlabel('x [m]')\n",
    "ax2.set_ylabel('y [m]')\n",
    "\n",
    "\n",
    "ax.axis('equal')\n",
    "ax2.axis('equal')\n",
    "\n",
    "sm = plt.cm.ScalarMappable(cmap=cmap, norm=norm)\n",
    "\n",
    "sm.set_array([])\n",
    "\n",
    "plt.colorbar(sm,label='p [Pa]')\n",
    "\n",
    "plt.subplots_adjust(left=0.01,right=0.95,wspace=0.3)\n",
    "\n",
    "fig.canvas.footer_visible = False\n",
    "fig.canvas.toolbar_visible = False\n",
    "fig.canvas.header_visible = False\n",
    "fig.canvas.resizable = False\n",
    "\n",
    "fig.show()\n"
   ]
  },
  {
   "cell_type": "code",
   "execution_count": null,
   "metadata": {},
   "outputs": [],
   "source": []
  },
  {
   "cell_type": "code",
   "execution_count": null,
   "metadata": {},
   "outputs": [],
   "source": []
  },
  {
   "cell_type": "code",
   "execution_count": null,
   "metadata": {},
   "outputs": [],
   "source": []
  },
  {
   "cell_type": "code",
   "execution_count": null,
   "metadata": {},
   "outputs": [],
   "source": []
  },
  {
   "cell_type": "code",
   "execution_count": null,
   "metadata": {},
   "outputs": [],
   "source": []
  },
  {
   "cell_type": "code",
   "execution_count": null,
   "metadata": {},
   "outputs": [],
   "source": []
  },
  {
   "cell_type": "code",
   "execution_count": null,
   "metadata": {},
   "outputs": [],
   "source": []
  }
 ],
 "metadata": {
  "kernelspec": {
   "display_name": "Python 3",
   "language": "python",
   "name": "python3"
  },
  "language_info": {
   "codemirror_mode": {
    "name": "ipython",
    "version": 3
   },
   "file_extension": ".py",
   "mimetype": "text/x-python",
   "name": "python",
   "nbconvert_exporter": "python",
   "pygments_lexer": "ipython3",
   "version": "3.7.7"
  }
 },
 "nbformat": 4,
 "nbformat_minor": 2
}
