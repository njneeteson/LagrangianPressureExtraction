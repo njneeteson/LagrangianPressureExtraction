{
 "cells": [
  {
   "cell_type": "code",
   "execution_count": 1,
   "metadata": {},
   "outputs": [],
   "source": [
    "#import libraries we're going to need\n",
    "import math\n",
    "import numpy as np\n",
    "import lagrangiandataprocessing as ldp\n",
    "import taylorgreenvortex as tgv\n",
    "import matplotlib.pyplot as plt\n",
    "%matplotlib inline"
   ]
  },
  {
   "cell_type": "code",
   "execution_count": 2,
   "metadata": {},
   "outputs": [
    {
     "data": {
      "text/plain": [
       "array([[ 1.09631609],\n",
       "       [ 0.07888143],\n",
       "       [ 2.12565306],\n",
       "       [ 1.5971605 ],\n",
       "       [ 1.10062032],\n",
       "       [-0.94505906],\n",
       "       [-0.29399773],\n",
       "       [ 0.73713565]])"
      ]
     },
     "execution_count": 2,
     "metadata": {},
     "output_type": "execute_result"
    }
   ],
   "source": [
    "# temporary debugging cell as the module is built up\n",
    "np.random.seed(0)\n",
    "X = np.random.randn(8,3)\n",
    "U = tgv.velocity(X,1,1)\n",
    "p = tgv.pressure(X,1,1,1000)\n",
    "network = ldp.tessellate(X)\n",
    "\n",
    "ldp.divergence(network,U)\n",
    "\n"
   ]
  },
  {
   "cell_type": "code",
   "execution_count": 3,
   "metadata": {},
   "outputs": [
    {
     "data": {
      "text/plain": [
       "array([ 239.86834761,  202.55287921, -327.73141547,  326.85222512,\n",
       "       -546.79500438,  483.5204607 ,   28.64229777,   77.59901747])"
      ]
     },
     "execution_count": 3,
     "metadata": {},
     "output_type": "execute_result"
    }
   ],
   "source": [
    "ldp.laplacian(network,p)"
   ]
  },
  {
   "cell_type": "code",
   "execution_count": null,
   "metadata": {},
   "outputs": [],
   "source": []
  },
  {
   "cell_type": "code",
   "execution_count": null,
   "metadata": {},
   "outputs": [],
   "source": []
  },
  {
   "cell_type": "code",
   "execution_count": null,
   "metadata": {},
   "outputs": [],
   "source": []
  },
  {
   "cell_type": "code",
   "execution_count": null,
   "metadata": {},
   "outputs": [],
   "source": []
  },
  {
   "cell_type": "code",
   "execution_count": null,
   "metadata": {},
   "outputs": [],
   "source": []
  }
 ],
 "metadata": {
  "kernelspec": {
   "display_name": "Python 3",
   "language": "python",
   "name": "python3"
  },
  "language_info": {
   "codemirror_mode": {
    "name": "ipython",
    "version": 3
   },
   "file_extension": ".py",
   "mimetype": "text/x-python",
   "name": "python",
   "nbconvert_exporter": "python",
   "pygments_lexer": "ipython3",
   "version": "3.7.7"
  }
 },
 "nbformat": 4,
 "nbformat_minor": 2
}
